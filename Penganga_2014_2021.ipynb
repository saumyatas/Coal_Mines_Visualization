{
  "nbformat": 4,
  "nbformat_minor": 0,
  "metadata": {
    "anaconda-cloud": {},
    "kernelspec": {
      "display_name": "Python 3",
      "language": "python",
      "name": "python3"
    },
    "language_info": {
      "codemirror_mode": {
        "name": "ipython",
        "version": 3
      },
      "file_extension": ".py",
      "mimetype": "text/x-python",
      "name": "python",
      "nbconvert_exporter": "python",
      "pygments_lexer": "ipython3",
      "version": "3.6.1"
    },
    "colab": {
      "name": "Penganga_2014-2021.ipynb",
      "provenance": [],
      "collapsed_sections": []
    },
    "widgets": {
      "application/vnd.jupyter.widget-state+json": {
        "ff8d633df0f444c184c714f684503e31": {
          "model_module": "jupyter-leaflet",
          "model_name": "LeafletMapModel",
          "model_module_version": "^0.14.0",
          "state": {
            "_view_name": "LeafletMapView",
            "keyboard_pan_offset": 80,
            "right": 667,
            "tap": true,
            "_view_module": "jupyter-leaflet",
            "max_zoom": 18,
            "_model_module_version": "^0.14.0",
            "_view_count": null,
            "zoom_snap": 1,
            "min_zoom": 1,
            "bounce_at_zoom_limits": true,
            "keyboard": true,
            "north": 79.93591824625466,
            "scroll_wheel_zoom": true,
            "dragging": true,
            "_model_module": "jupyter-leaflet",
            "zoom_delta": 1,
            "close_popup_on_click": true,
            "fullscreen": false,
            "style": "IPY_MODEL_c283420f192e4c76984e9d3796414c6d",
            "layout": "IPY_MODEL_984315809366446e86ce39d539c0d2f1",
            "bottom": 716,
            "inertia_max_speed": 1500,
            "top": 116,
            "box_zoom": true,
            "controls": [
              "IPY_MODEL_6647677c08074aa6834e644420e5c3d7",
              "IPY_MODEL_e9b7b1769ff24628873481fc49e49d9a",
              "IPY_MODEL_db230ae3861645dc8b52be841e838898",
              "IPY_MODEL_351eed3950684aa486a5836644a1cb10",
              "IPY_MODEL_43c8ae1745b04e55ab58588526de8193",
              "IPY_MODEL_ca049b47f934418cab8fd846420ab97d",
              "IPY_MODEL_d4a15e4e5ea64b14bc201213527156ec",
              "IPY_MODEL_a8f898a2d54a4660980a22c6ddece665"
            ],
            "default_style": "IPY_MODEL_c283420f192e4c76984e9d3796414c6d",
            "east": 54.4921875,
            "double_click_zoom": true,
            "interpolation": "bilinear",
            "layers": [
              "IPY_MODEL_4b2b0c553aeb4cacae803a89863d1bad",
              "IPY_MODEL_db99ae9c1c654beead66fa009b0420d1"
            ],
            "dragging_style": "IPY_MODEL_a80ee86b3f53486c8713e888d8b382e5",
            "_dom_classes": [],
            "zoom_animation_threshold": 4,
            "_model_name": "LeafletMapModel",
            "zoom_start": 12,
            "modisdate": "yesterday",
            "keyboard_zoom_offset": 1,
            "inertia_deceleration": 3000,
            "inertia": true,
            "crs": {
              "name": "EPSG3857",
              "custom": false
            },
            "center": [
              32.080879190612656,
              -178.4195541567998
            ],
            "zoom": 2,
            "world_copy_jump": false,
            "_view_module_version": "^0.14.0",
            "window_url": "https://2y2blza8xyi-496ff2e9c6d22116-0-colab.googleusercontent.com/outputframe.html?vrz=colab-20211021-060055-RC00_404726448",
            "tap_tolerance": 15,
            "west": -411.328125,
            "touch_zoom": true,
            "options": [
              "bounce_at_zoom_limits",
              "box_zoom",
              "center",
              "close_popup_on_click",
              "double_click_zoom",
              "dragging",
              "fullscreen",
              "inertia",
              "inertia_deceleration",
              "inertia_max_speed",
              "interpolation",
              "keyboard",
              "keyboard_pan_offset",
              "keyboard_zoom_offset",
              "max_zoom",
              "min_zoom",
              "scroll_wheel_zoom",
              "tap",
              "tap_tolerance",
              "touch_zoom",
              "world_copy_jump",
              "zoom",
              "zoom_animation_threshold",
              "zoom_delta",
              "zoom_snap",
              "zoom_start"
            ],
            "south": -58.07787626787517,
            "left": -658,
            "_dragging": false
          }
        },
        "975efda2d53e48e6a12a975b534e6002": {
          "model_module": "jupyter-leaflet",
          "model_name": "LeafletMapStyleModel",
          "model_module_version": "^0.14.0",
          "state": {
            "_view_name": "StyleView",
            "_model_name": "LeafletMapStyleModel",
            "_view_module": "@jupyter-widgets/base",
            "_model_module_version": "^0.14.0",
            "_view_count": null,
            "cursor": "grab",
            "_view_module_version": "1.2.0",
            "_model_module": "jupyter-leaflet"
          }
        },
        "984315809366446e86ce39d539c0d2f1": {
          "model_module": "@jupyter-widgets/base",
          "model_name": "LayoutModel",
          "model_module_version": "1.2.0",
          "state": {
            "_view_name": "LayoutView",
            "grid_template_rows": null,
            "right": null,
            "justify_content": null,
            "_view_module": "@jupyter-widgets/base",
            "overflow": null,
            "_model_module_version": "1.2.0",
            "_view_count": null,
            "flex_flow": null,
            "width": null,
            "min_width": null,
            "border": null,
            "align_items": null,
            "bottom": null,
            "_model_module": "@jupyter-widgets/base",
            "top": null,
            "grid_column": null,
            "overflow_y": null,
            "overflow_x": null,
            "grid_auto_flow": null,
            "grid_area": null,
            "grid_template_columns": null,
            "flex": null,
            "_model_name": "LayoutModel",
            "justify_items": null,
            "grid_row": null,
            "max_height": null,
            "align_content": null,
            "visibility": null,
            "align_self": null,
            "height": "600px",
            "min_height": null,
            "padding": null,
            "grid_auto_rows": null,
            "grid_gap": null,
            "max_width": null,
            "order": null,
            "_view_module_version": "1.2.0",
            "grid_template_areas": null,
            "object_position": null,
            "object_fit": null,
            "grid_auto_columns": null,
            "margin": null,
            "display": null,
            "left": null
          }
        },
        "6647677c08074aa6834e644420e5c3d7": {
          "model_module": "jupyter-leaflet",
          "model_name": "LeafletWidgetControlModel",
          "model_module_version": "^0.14.0",
          "state": {
            "_view_name": "LeafletWidgetControlView",
            "widget": "IPY_MODEL_cba954193fbd47f7815e47dbaa577e3f",
            "_model_name": "LeafletWidgetControlModel",
            "_view_module": "jupyter-leaflet",
            "_model_module_version": "^0.14.0",
            "max_height": null,
            "_view_count": null,
            "min_height": null,
            "_view_module_version": "^0.14.0",
            "max_width": null,
            "transparent_bg": false,
            "min_width": null,
            "position": "topleft",
            "_model_module": "jupyter-leaflet",
            "options": [
              "position",
              "transparent_bg"
            ]
          }
        },
        "e9b7b1769ff24628873481fc49e49d9a": {
          "model_module": "jupyter-leaflet",
          "model_name": "LeafletZoomControlModel",
          "model_module_version": "^0.14.0",
          "state": {
            "_view_name": "LeafletZoomControlView",
            "zoom_in_title": "Zoom in",
            "_model_name": "LeafletZoomControlModel",
            "_view_module": "jupyter-leaflet",
            "_model_module_version": "^0.14.0",
            "_view_count": null,
            "_view_module_version": "^0.14.0",
            "zoom_out_title": "Zoom out",
            "position": "topleft",
            "zoom_in_text": "+",
            "_model_module": "jupyter-leaflet",
            "options": [
              "position",
              "zoom_in_text",
              "zoom_in_title",
              "zoom_out_text",
              "zoom_out_title"
            ],
            "zoom_out_text": "-"
          }
        },
        "db230ae3861645dc8b52be841e838898": {
          "model_module": "jupyter-leaflet",
          "model_name": "LeafletScaleControlModel",
          "model_module_version": "^0.14.0",
          "state": {
            "_view_name": "LeafletScaleControlView",
            "_model_name": "LeafletScaleControlModel",
            "metric": true,
            "_view_module": "jupyter-leaflet",
            "_model_module_version": "^0.14.0",
            "max_width": 100,
            "_view_count": null,
            "_view_module_version": "^0.14.0",
            "update_when_idle": false,
            "position": "bottomleft",
            "imperial": true,
            "_model_module": "jupyter-leaflet",
            "options": [
              "imperial",
              "max_width",
              "metric",
              "position",
              "update_when_idle"
            ]
          }
        },
        "351eed3950684aa486a5836644a1cb10": {
          "model_module": "jupyter-leaflet",
          "model_name": "LeafletFullScreenControlModel",
          "model_module_version": "^0.14.0",
          "state": {
            "_view_name": "LeafletFullScreenControlView",
            "_model_name": "LeafletFullScreenControlModel",
            "_view_module": "jupyter-leaflet",
            "_model_module_version": "^0.14.0",
            "_view_count": null,
            "_view_module_version": "^0.14.0",
            "position": "topleft",
            "_model_module": "jupyter-leaflet",
            "options": [
              "position"
            ]
          }
        },
        "43c8ae1745b04e55ab58588526de8193": {
          "model_module": "jupyter-leaflet",
          "model_name": "LeafletMeasureControlModel",
          "model_module_version": "^0.14.0",
          "state": {
            "_view_name": "LeafletMeasureControlView",
            "primary_area_unit": "acres",
            "capture_z_index": 10000,
            "secondary_area_unit": null,
            "primary_length_unit": "kilometers",
            "active_color": "orange",
            "_model_name": "LeafletMeasureControlModel",
            "popup_options": {
              "className": "leaflet-measure-resultpopup",
              "autoPanPadding": [
                10,
                10
              ]
            },
            "_view_module": "jupyter-leaflet",
            "_model_module_version": "^0.14.0",
            "_view_count": null,
            "_view_module_version": "^0.14.0",
            "secondary_length_unit": null,
            "completed_color": "#C8F2BE",
            "position": "bottomleft",
            "_model_module": "jupyter-leaflet",
            "options": [
              "active_color",
              "capture_z_index",
              "completed_color",
              "popup_options",
              "position",
              "primary_area_unit",
              "primary_length_unit",
              "secondary_area_unit",
              "secondary_length_unit"
            ],
            "_custom_units": {}
          }
        },
        "ca049b47f934418cab8fd846420ab97d": {
          "model_module": "jupyter-leaflet",
          "model_name": "LeafletAttributionControlModel",
          "model_module_version": "^0.14.0",
          "state": {
            "_view_name": "LeafletAttributionControlView",
            "prefix": "ipyleaflet",
            "_model_name": "LeafletAttributionControlModel",
            "_view_module": "jupyter-leaflet",
            "_model_module_version": "^0.14.0",
            "_view_count": null,
            "_view_module_version": "^0.14.0",
            "position": "bottomright",
            "_model_module": "jupyter-leaflet",
            "options": [
              "position",
              "prefix"
            ]
          }
        },
        "d4a15e4e5ea64b14bc201213527156ec": {
          "model_module": "jupyter-leaflet",
          "model_name": "LeafletDrawControlModel",
          "model_module_version": "^0.14.0",
          "state": {
            "_view_name": "LeafletDrawControlView",
            "polygon": {
              "shapeOptions": {}
            },
            "circlemarker": {},
            "_model_name": "LeafletDrawControlModel",
            "edit": true,
            "data": [],
            "_view_module": "jupyter-leaflet",
            "_model_module_version": "^0.14.0",
            "remove": true,
            "_view_count": null,
            "_view_module_version": "^0.14.0",
            "polyline": {
              "shapeOptions": {}
            },
            "marker": {
              "shapeOptions": {
                "color": "#3388ff"
              }
            },
            "position": "topleft",
            "circle": {
              "shapeOptions": {
                "color": "#3388ff"
              }
            },
            "_model_module": "jupyter-leaflet",
            "options": [
              "position"
            ],
            "rectangle": {
              "shapeOptions": {
                "color": "#3388ff"
              }
            }
          }
        },
        "a8f898a2d54a4660980a22c6ddece665": {
          "model_module": "jupyter-leaflet",
          "model_name": "LeafletWidgetControlModel",
          "model_module_version": "^0.14.0",
          "state": {
            "_view_name": "LeafletWidgetControlView",
            "widget": "IPY_MODEL_e61d91764f4144b6b0256b75c794927b",
            "_model_name": "LeafletWidgetControlModel",
            "_view_module": "jupyter-leaflet",
            "_model_module_version": "^0.14.0",
            "max_height": null,
            "_view_count": null,
            "min_height": null,
            "_view_module_version": "^0.14.0",
            "max_width": null,
            "transparent_bg": false,
            "min_width": null,
            "position": "topright",
            "_model_module": "jupyter-leaflet",
            "options": [
              "position",
              "transparent_bg"
            ]
          }
        },
        "c283420f192e4c76984e9d3796414c6d": {
          "model_module": "jupyter-leaflet",
          "model_name": "LeafletMapStyleModel",
          "model_module_version": "^0.14.0",
          "state": {
            "_view_name": "StyleView",
            "_model_name": "LeafletMapStyleModel",
            "_view_module": "@jupyter-widgets/base",
            "_model_module_version": "^0.14.0",
            "_view_count": null,
            "cursor": "grab",
            "_view_module_version": "1.2.0",
            "_model_module": "jupyter-leaflet"
          }
        },
        "4b2b0c553aeb4cacae803a89863d1bad": {
          "model_module": "jupyter-leaflet",
          "model_name": "LeafletTileLayerModel",
          "model_module_version": "^0.14.0",
          "state": {
            "_view_name": "LeafletTileLayerView",
            "_view_module": "jupyter-leaflet",
            "max_zoom": 19,
            "_model_module_version": "^0.14.0",
            "_view_count": null,
            "visible": true,
            "min_zoom": 1,
            "tms": false,
            "_model_module": "jupyter-leaflet",
            "loading": false,
            "bottom": true,
            "no_wrap": false,
            "tile_size": 256,
            "popup_min_width": 50,
            "opacity": 1,
            "popup": null,
            "attribution": "Map data (c) <a href=\"https://openstreetmap.org\">OpenStreetMap</a> contributors",
            "_model_name": "LeafletTileLayerModel",
            "max_native_zoom": 18,
            "base": true,
            "min_native_zoom": 0,
            "show_loading": false,
            "name": "",
            "url": "https://{s}.tile.openstreetmap.org/{z}/{x}/{y}.png",
            "popup_max_height": null,
            "popup_max_width": 300,
            "detect_retina": false,
            "_view_module_version": "^0.14.0",
            "options": [
              "attribution",
              "detect_retina",
              "max_native_zoom",
              "max_zoom",
              "min_native_zoom",
              "min_zoom",
              "no_wrap",
              "tile_size",
              "tms"
            ]
          }
        },
        "db99ae9c1c654beead66fa009b0420d1": {
          "model_module": "jupyter-leaflet",
          "model_name": "LeafletTileLayerModel",
          "model_module_version": "^0.14.0",
          "state": {
            "_view_name": "LeafletTileLayerView",
            "_view_module": "jupyter-leaflet",
            "max_zoom": 18,
            "_model_module_version": "^0.14.0",
            "_view_count": null,
            "visible": true,
            "min_zoom": 0,
            "tms": false,
            "_model_module": "jupyter-leaflet",
            "loading": false,
            "bottom": true,
            "no_wrap": false,
            "tile_size": 256,
            "popup_min_width": 50,
            "opacity": 1,
            "popup": null,
            "attribution": "Google",
            "_model_name": "LeafletTileLayerModel",
            "max_native_zoom": 18,
            "base": false,
            "min_native_zoom": 0,
            "show_loading": false,
            "name": "Google Maps",
            "url": "https://mt1.google.com/vt/lyrs=m&x={x}&y={y}&z={z}",
            "popup_max_height": null,
            "popup_max_width": 300,
            "detect_retina": false,
            "_view_module_version": "^0.14.0",
            "options": [
              "attribution",
              "detect_retina",
              "max_native_zoom",
              "max_zoom",
              "min_native_zoom",
              "min_zoom",
              "no_wrap",
              "tile_size",
              "tms"
            ]
          }
        },
        "a80ee86b3f53486c8713e888d8b382e5": {
          "model_module": "jupyter-leaflet",
          "model_name": "LeafletMapStyleModel",
          "model_module_version": "^0.14.0",
          "state": {
            "_view_name": "StyleView",
            "_model_name": "LeafletMapStyleModel",
            "_view_module": "@jupyter-widgets/base",
            "_model_module_version": "^0.14.0",
            "_view_count": null,
            "cursor": "move",
            "_view_module_version": "1.2.0",
            "_model_module": "jupyter-leaflet"
          }
        },
        "cba954193fbd47f7815e47dbaa577e3f": {
          "model_module": "@jupyter-widgets/controls",
          "model_name": "HBoxModel",
          "model_module_version": "1.5.0",
          "state": {
            "_view_name": "HBoxView",
            "_dom_classes": [],
            "_model_name": "HBoxModel",
            "_view_module": "@jupyter-widgets/controls",
            "_model_module_version": "1.5.0",
            "_view_count": null,
            "_view_module_version": "1.5.0",
            "box_style": "",
            "layout": "IPY_MODEL_49bb8ea0022442cfbf81c46dacd164bd",
            "_model_module": "@jupyter-widgets/controls",
            "children": [
              "IPY_MODEL_1e56fbdde1974d5781ff1726123ea863"
            ]
          }
        },
        "e61d91764f4144b6b0256b75c794927b": {
          "model_module": "@jupyter-widgets/controls",
          "model_name": "VBoxModel",
          "model_module_version": "1.5.0",
          "state": {
            "_view_name": "VBoxView",
            "_dom_classes": [],
            "_model_name": "VBoxModel",
            "_view_module": "@jupyter-widgets/controls",
            "_model_module_version": "1.5.0",
            "_view_count": null,
            "_view_module_version": "1.5.0",
            "box_style": "",
            "layout": "IPY_MODEL_7b888181cfed4e57b581e2870644f626",
            "_model_module": "@jupyter-widgets/controls",
            "children": [
              "IPY_MODEL_c24e3cd52bdc4db6bd49f74568cdb46d"
            ]
          }
        },
        "49bb8ea0022442cfbf81c46dacd164bd": {
          "model_module": "@jupyter-widgets/base",
          "model_name": "LayoutModel",
          "model_module_version": "1.2.0",
          "state": {
            "_view_name": "LayoutView",
            "grid_template_rows": null,
            "right": null,
            "justify_content": null,
            "_view_module": "@jupyter-widgets/base",
            "overflow": null,
            "_model_module_version": "1.2.0",
            "_view_count": null,
            "flex_flow": null,
            "width": null,
            "min_width": null,
            "border": null,
            "align_items": null,
            "bottom": null,
            "_model_module": "@jupyter-widgets/base",
            "top": null,
            "grid_column": null,
            "overflow_y": null,
            "overflow_x": null,
            "grid_auto_flow": null,
            "grid_area": null,
            "grid_template_columns": null,
            "flex": null,
            "_model_name": "LayoutModel",
            "justify_items": null,
            "grid_row": null,
            "max_height": null,
            "align_content": null,
            "visibility": null,
            "align_self": null,
            "height": null,
            "min_height": null,
            "padding": null,
            "grid_auto_rows": null,
            "grid_gap": null,
            "max_width": null,
            "order": null,
            "_view_module_version": "1.2.0",
            "grid_template_areas": null,
            "object_position": null,
            "object_fit": null,
            "grid_auto_columns": null,
            "margin": null,
            "display": null,
            "left": null
          }
        },
        "1e56fbdde1974d5781ff1726123ea863": {
          "model_module": "@jupyter-widgets/controls",
          "model_name": "ToggleButtonModel",
          "model_module_version": "1.5.0",
          "state": {
            "_view_name": "ToggleButtonView",
            "style": "IPY_MODEL_b77c7e9897e24042bfcac94003f4d330",
            "_dom_classes": [],
            "description": "",
            "_model_name": "ToggleButtonModel",
            "button_style": "",
            "_view_module": "@jupyter-widgets/controls",
            "_model_module_version": "1.5.0",
            "tooltip": "Search location/data",
            "_view_count": null,
            "disabled": false,
            "_view_module_version": "1.5.0",
            "value": false,
            "description_tooltip": null,
            "_model_module": "@jupyter-widgets/controls",
            "layout": "IPY_MODEL_87c76be81169418f924210fec75b0afa",
            "icon": "globe"
          }
        },
        "7b888181cfed4e57b581e2870644f626": {
          "model_module": "@jupyter-widgets/base",
          "model_name": "LayoutModel",
          "model_module_version": "1.2.0",
          "state": {
            "_view_name": "LayoutView",
            "grid_template_rows": null,
            "right": null,
            "justify_content": null,
            "_view_module": "@jupyter-widgets/base",
            "overflow": null,
            "_model_module_version": "1.2.0",
            "_view_count": null,
            "flex_flow": null,
            "width": null,
            "min_width": null,
            "border": null,
            "align_items": null,
            "bottom": null,
            "_model_module": "@jupyter-widgets/base",
            "top": null,
            "grid_column": null,
            "overflow_y": null,
            "overflow_x": null,
            "grid_auto_flow": null,
            "grid_area": null,
            "grid_template_columns": null,
            "flex": null,
            "_model_name": "LayoutModel",
            "justify_items": null,
            "grid_row": null,
            "max_height": null,
            "align_content": null,
            "visibility": null,
            "align_self": null,
            "height": null,
            "min_height": null,
            "padding": null,
            "grid_auto_rows": null,
            "grid_gap": null,
            "max_width": null,
            "order": null,
            "_view_module_version": "1.2.0",
            "grid_template_areas": null,
            "object_position": null,
            "object_fit": null,
            "grid_auto_columns": null,
            "margin": null,
            "display": null,
            "left": null
          }
        },
        "c24e3cd52bdc4db6bd49f74568cdb46d": {
          "model_module": "@jupyter-widgets/controls",
          "model_name": "ToggleButtonModel",
          "model_module_version": "1.5.0",
          "state": {
            "_view_name": "ToggleButtonView",
            "style": "IPY_MODEL_33bf222480d547bab415bfb99ec05544",
            "_dom_classes": [],
            "description": "",
            "_model_name": "ToggleButtonModel",
            "button_style": "",
            "_view_module": "@jupyter-widgets/controls",
            "_model_module_version": "1.5.0",
            "tooltip": "Toolbar",
            "_view_count": null,
            "disabled": false,
            "_view_module_version": "1.5.0",
            "value": false,
            "description_tooltip": null,
            "_model_module": "@jupyter-widgets/controls",
            "layout": "IPY_MODEL_3e20b8b0ce074191963c215271c7228b",
            "icon": "wrench"
          }
        },
        "b77c7e9897e24042bfcac94003f4d330": {
          "model_module": "@jupyter-widgets/controls",
          "model_name": "DescriptionStyleModel",
          "model_module_version": "1.5.0",
          "state": {
            "_view_name": "StyleView",
            "_model_name": "DescriptionStyleModel",
            "description_width": "",
            "_view_module": "@jupyter-widgets/base",
            "_model_module_version": "1.5.0",
            "_view_count": null,
            "_view_module_version": "1.2.0",
            "_model_module": "@jupyter-widgets/controls"
          }
        },
        "87c76be81169418f924210fec75b0afa": {
          "model_module": "@jupyter-widgets/base",
          "model_name": "LayoutModel",
          "model_module_version": "1.2.0",
          "state": {
            "_view_name": "LayoutView",
            "grid_template_rows": null,
            "right": null,
            "justify_content": null,
            "_view_module": "@jupyter-widgets/base",
            "overflow": null,
            "_model_module_version": "1.2.0",
            "_view_count": null,
            "flex_flow": null,
            "width": "28px",
            "min_width": null,
            "border": null,
            "align_items": null,
            "bottom": null,
            "_model_module": "@jupyter-widgets/base",
            "top": null,
            "grid_column": null,
            "overflow_y": null,
            "overflow_x": null,
            "grid_auto_flow": null,
            "grid_area": null,
            "grid_template_columns": null,
            "flex": null,
            "_model_name": "LayoutModel",
            "justify_items": null,
            "grid_row": null,
            "max_height": null,
            "align_content": null,
            "visibility": null,
            "align_self": null,
            "height": "28px",
            "min_height": null,
            "padding": "0px 0px 0px 4px",
            "grid_auto_rows": null,
            "grid_gap": null,
            "max_width": null,
            "order": null,
            "_view_module_version": "1.2.0",
            "grid_template_areas": null,
            "object_position": null,
            "object_fit": null,
            "grid_auto_columns": null,
            "margin": null,
            "display": null,
            "left": null
          }
        },
        "33bf222480d547bab415bfb99ec05544": {
          "model_module": "@jupyter-widgets/controls",
          "model_name": "DescriptionStyleModel",
          "model_module_version": "1.5.0",
          "state": {
            "_view_name": "StyleView",
            "_model_name": "DescriptionStyleModel",
            "description_width": "",
            "_view_module": "@jupyter-widgets/base",
            "_model_module_version": "1.5.0",
            "_view_count": null,
            "_view_module_version": "1.2.0",
            "_model_module": "@jupyter-widgets/controls"
          }
        },
        "3e20b8b0ce074191963c215271c7228b": {
          "model_module": "@jupyter-widgets/base",
          "model_name": "LayoutModel",
          "model_module_version": "1.2.0",
          "state": {
            "_view_name": "LayoutView",
            "grid_template_rows": null,
            "right": null,
            "justify_content": null,
            "_view_module": "@jupyter-widgets/base",
            "overflow": null,
            "_model_module_version": "1.2.0",
            "_view_count": null,
            "flex_flow": null,
            "width": "28px",
            "min_width": null,
            "border": null,
            "align_items": null,
            "bottom": null,
            "_model_module": "@jupyter-widgets/base",
            "top": null,
            "grid_column": null,
            "overflow_y": null,
            "overflow_x": null,
            "grid_auto_flow": null,
            "grid_area": null,
            "grid_template_columns": null,
            "flex": null,
            "_model_name": "LayoutModel",
            "justify_items": null,
            "grid_row": null,
            "max_height": null,
            "align_content": null,
            "visibility": null,
            "align_self": null,
            "height": "28px",
            "min_height": null,
            "padding": "0px 0px 0px 4px",
            "grid_auto_rows": null,
            "grid_gap": null,
            "max_width": null,
            "order": null,
            "_view_module_version": "1.2.0",
            "grid_template_areas": null,
            "object_position": null,
            "object_fit": null,
            "grid_auto_columns": null,
            "margin": null,
            "display": null,
            "left": null
          }
        }
      }
    }
  },
  "cells": [
    {
      "cell_type": "markdown",
      "metadata": {
        "id": "Bo0Ra6kA78XE"
      },
      "source": [
        "<table class=\"ee-notebook-buttons\" align=\"left\">\n",
        "    <td><a target=\"_blank\"  href=\"https://github.com/giswqs/geemap/tree/master/examples/template/template.ipynb\"><img width=32px src=\"https://www.tensorflow.org/images/GitHub-Mark-32px.png\" /> View source on GitHub</a></td>\n",
        "    <td><a target=\"_blank\"  href=\"https://nbviewer.jupyter.org/github/giswqs/geemap/blob/master/examples/template/template.ipynb\"><img width=26px src=\"https://upload.wikimedia.org/wikipedia/commons/thumb/3/38/Jupyter_logo.svg/883px-Jupyter_logo.svg.png\" />Notebook Viewer</a></td>\n",
        "    <td><a target=\"_blank\"  href=\"https://colab.research.google.com/github/giswqs/geemap/blob/master/examples/template/template.ipynb\"><img src=\"https://www.tensorflow.org/images/colab_logo_32px.png\" /> Run in Google Colab</a></td>\n",
        "</table>"
      ]
    },
    {
      "cell_type": "code",
      "metadata": {
        "colab": {
          "base_uri": "https://localhost:8080/"
        },
        "id": "f5ZG8vQi78XI",
        "outputId": "0c706749-5d17-43a8-89b7-732728647220"
      },
      "source": [
        "# Installs geemap package\n",
        "import subprocess\n",
        "\n",
        "try:\n",
        "    import geemap\n",
        "except ImportError:\n",
        "    print(\"Installing geemap ...\")\n",
        "    subprocess.check_call([\"python\", \"-m\", \"pip\", \"install\", \"geemap\"])"
      ],
      "execution_count": null,
      "outputs": [
        {
          "output_type": "stream",
          "name": "stdout",
          "text": [
            "Installing geemap ...\n"
          ]
        }
      ]
    },
    {
      "cell_type": "code",
      "metadata": {
        "id": "UxWak_Zw78XJ"
      },
      "source": [
        "import ee\n",
        "import geemap\n",
        "import os\n",
        "import pandas as pd\n",
        "import seaborn as sns, numpy as np\n",
        "from pylab import *\n",
        "from matplotlib.pyplot import plot, show, draw, figure, cm\n",
        "import matplotlib.pyplot as plt"
      ],
      "execution_count": null,
      "outputs": []
    },
    {
      "cell_type": "code",
      "metadata": {
        "colab": {
          "base_uri": "https://localhost:8080/",
          "height": 786,
          "referenced_widgets": [
            "ff8d633df0f444c184c714f684503e31",
            "975efda2d53e48e6a12a975b534e6002",
            "984315809366446e86ce39d539c0d2f1",
            "6647677c08074aa6834e644420e5c3d7",
            "e9b7b1769ff24628873481fc49e49d9a",
            "db230ae3861645dc8b52be841e838898",
            "351eed3950684aa486a5836644a1cb10",
            "43c8ae1745b04e55ab58588526de8193",
            "ca049b47f934418cab8fd846420ab97d",
            "d4a15e4e5ea64b14bc201213527156ec",
            "a8f898a2d54a4660980a22c6ddece665",
            "c283420f192e4c76984e9d3796414c6d",
            "4b2b0c553aeb4cacae803a89863d1bad",
            "db99ae9c1c654beead66fa009b0420d1",
            "a80ee86b3f53486c8713e888d8b382e5",
            "cba954193fbd47f7815e47dbaa577e3f",
            "e61d91764f4144b6b0256b75c794927b",
            "49bb8ea0022442cfbf81c46dacd164bd",
            "1e56fbdde1974d5781ff1726123ea863",
            "7b888181cfed4e57b581e2870644f626",
            "c24e3cd52bdc4db6bd49f74568cdb46d",
            "b77c7e9897e24042bfcac94003f4d330",
            "87c76be81169418f924210fec75b0afa",
            "33bf222480d547bab415bfb99ec05544",
            "3e20b8b0ce074191963c215271c7228b"
          ]
        },
        "id": "OWXO18Qc78XK",
        "outputId": "5db7cad2-1f82-41c2-f6d7-1745f5dee87c"
      },
      "source": [
        "Map = geemap.Map(center=[40, -100], zoom=4)\n",
        "Map"
      ],
      "execution_count": null,
      "outputs": [
        {
          "output_type": "stream",
          "name": "stdout",
          "text": [
            "To authorize access needed by Earth Engine, open the following URL in a web browser and follow the instructions. If the web browser does not start automatically, please manually browse the URL below.\n",
            "\n",
            "    https://accounts.google.com/o/oauth2/auth?client_id=517222506229-vsmmajv00ul0bs7p89v5m89qs8eb9359.apps.googleusercontent.com&scope=https%3A%2F%2Fwww.googleapis.com%2Fauth%2Fearthengine+https%3A%2F%2Fwww.googleapis.com%2Fauth%2Fdevstorage.full_control&redirect_uri=urn%3Aietf%3Awg%3Aoauth%3A2.0%3Aoob&response_type=code&code_challenge=95psNvYygpbNf_sczoc63xNLC0X9nNQcbq26icf6UVc&code_challenge_method=S256\n",
            "\n",
            "The authorization workflow will generate a code, which you should paste in the box below. \n",
            "Enter verification code: 4/1AX4XfWj0cbIZFzuAcmuWHpA98gv0CZYmPYOB3f8_UJDw21Weo_5pSw1FrxY\n",
            "\n",
            "Successfully saved authorization token.\n"
          ]
        },
        {
          "output_type": "display_data",
          "data": {
            "application/vnd.jupyter.widget-view+json": {
              "model_id": "ff8d633df0f444c184c714f684503e31",
              "version_minor": 0,
              "version_major": 2
            },
            "text/plain": [
              "Map(center=[40, -100], controls=(WidgetControl(options=['position', 'transparent_bg'], widget=HBox(children=(T…"
            ]
          },
          "metadata": {
            "application/vnd.jupyter.widget-view+json": {
              "colab": {
                "custom_widget_manager": {
                  "url": "https://ssl.gstatic.com/colaboratory-static/widgets/colab-cdn-widget-manager/e680a8b83b2ea152/manager.min.js"
                }
              }
            }
          }
        }
      ]
    },
    {
      "cell_type": "code",
      "metadata": {
        "colab": {
          "base_uri": "https://localhost:8080/"
        },
        "id": "bvYzYS5rULWs",
        "outputId": "6368aaa0-8bec-442b-8285-779fe4a77e75"
      },
      "source": [
        "from google.colab import drive\n",
        "drive.mount('/content/drive')"
      ],
      "execution_count": null,
      "outputs": [
        {
          "output_type": "stream",
          "name": "stdout",
          "text": [
            "Mounted at /content/drive\n"
          ]
        }
      ]
    },
    {
      "cell_type": "code",
      "metadata": {
        "id": "XnjzP9Ff78XL"
      },
      "source": [
        "# Add Earth Engine dataset\n",
        "geometry = ee.FeatureCollection(\n",
        "        [ee.Feature(\n",
        "            ee.Geometry.Polygon(\n",
        "                [[[79.13203579965962, 19.85569590925576],\n",
        "                  [79.13203579965962, 19.848833868667082],\n",
        "                  [79.1379581171645, 19.848833868667082],\n",
        "                  [79.1379581171645, 19.85569590925576]]]))])\n",
        "\n",
        "evistudy = ee.Geometry.Polygon(\n",
        "        [[[79.1151672297528, 19.868029319174227],\n",
        "          [79.1151672297528, 19.837029093779364],\n",
        "          [79.15344771681335, 19.837029093779364],\n",
        "          [79.15344771681335, 19.868029319174227]]])\n",
        "\n",
        "studyArea = evistudy"
      ],
      "execution_count": null,
      "outputs": []
    },
    {
      "cell_type": "code",
      "metadata": {
        "id": "rNBrQidw8ayk"
      },
      "source": [
        "imageCollection = ee.ImageCollection('LANDSAT/LC08/C01/T1_SR') \\\n",
        "  .filterBounds(studyArea)\n",
        "\n",
        "def maskL8sr(imageCollection):\n",
        "  cloudShadowBitMask = 1 << 3\n",
        "  cloudsBitMask = 1 << 5\n",
        "\n",
        "  qa = imageCollection.select('pixel_qa')\n",
        "\n",
        "  mask = qa.bitwiseAnd(cloudShadowBitMask).eq(0) \\\n",
        "      .And(qa.bitwiseAnd(cloudsBitMask).eq(0))\n",
        "\n",
        "  return imageCollection.updateMask(mask).divide(10000) \\\n",
        "      .select(\"B[0-9]*\") \\\n",
        "      .copyProperties(imageCollection, [\"system:time_start\"])\n",
        "\n",
        "\n",
        "stepList = ee.List.sequence(2014,2021)\n",
        "\n",
        "\n",
        "def func_jcn(year):\n",
        "  startDate = ee.Date.fromYMD(year,1,1)\n",
        "  endDate = ee.Date.fromYMD(year,12,31)\n",
        "  composite_i = imageCollection.filterDate(startDate, endDate) \\\n",
        "                        .map(maskL8sr) \\\n",
        "                        .median() \\\n",
        "                        .set('system:time_start',startDate)\n",
        "  return composite_i\n",
        "\n",
        "filterCollection = stepList.map(func_jcn)\n",
        "\n",
        "yearlyComposites = ee.ImageCollection(filterCollection)\n",
        "# print(yearlyComposites, 'Masked and Filtered Composites')\n",
        "\n",
        "visParams = {\n",
        "  'bands': ['B4', 'B3', 'B2'],\n",
        "  'min': 0,\n",
        "  'max': 0.3,\n",
        "  'gamma': 1.4,\n",
        "}\n",
        "\n"
      ],
      "execution_count": null,
      "outputs": []
    },
    {
      "cell_type": "code",
      "metadata": {
        "id": "ce8qeNZK9Kz8"
      },
      "source": [
        "# #----------------------------------------------------EVI Index-------------------------------------------\n",
        "\n",
        "# EVI = 2.5 * ((NIR - Red) / (NIR + 6 * Red – 7.5 * Blue + 1))\n",
        "def evi(img):\n",
        "  eviImg = img.select(['B5','B4','B2'],['nir','red','blue'])\n",
        "  eviImg = eviImg.expression(\n",
        "    '(2.5 * ((NIR - RED)) / (NIR + 6 * RED - 7.5 * BLUE + 1))', {\n",
        "      'NIR': eviImg.select('nir'),\n",
        "      'RED': eviImg.select('red'),\n",
        "      'BLUE': eviImg.select('blue')\n",
        "    }).rename('EVI')\n",
        "  return img.addBands(eviImg)\n",
        "\n",
        "def func_hox(image):\n",
        "  return evi(image)\n",
        "\n",
        "yearlyComposites = yearlyComposites.map(func_hox)\n",
        "\n",
        "\n",
        "# print(yearlyComposites, 'With EVI as Band')\n",
        "\n",
        "# Create image collection of yearly composites, selecting the EVI band.\n",
        "eviCollection = yearlyComposites.select('EVI')\n"
      ],
      "execution_count": null,
      "outputs": []
    },
    {
      "cell_type": "code",
      "metadata": {
        "id": "8Xf6CRb7TQuC"
      },
      "source": [
        "out_dir = '/content/drive/MyDrive/WII/GEE'\n",
        "out_dem_stats = os.path.join(out_dir, 'EVI_mean.csv')  "
      ],
      "execution_count": null,
      "outputs": []
    },
    {
      "cell_type": "code",
      "metadata": {
        "colab": {
          "base_uri": "https://localhost:8080/"
        },
        "id": "cWJtDUCDSvmC",
        "outputId": "9cfb77d7-4dd2-4436-c871-079184db9522"
      },
      "source": [
        "geemap.zonal_statistics(eviCollection, geometry, out_dem_stats, statistics_type='MEAN', scale=30)"
      ],
      "execution_count": null,
      "outputs": [
        {
          "output_type": "stream",
          "name": "stdout",
          "text": [
            "Computing statistics ...\n",
            "Generating URL ...\n",
            "Downloading data from https://earthengine.googleapis.com/v1alpha/projects/earthengine-legacy/tables/e6dbd37326ff11194c395b0a888f1255-52e35fc95b8096872883cb6e2d280929:getFeatures\n",
            "Please wait ...\n",
            "Data downloaded to /content/drive/MyDrive/WII/GEE/EVI_mean.csv\n"
          ]
        }
      ]
    },
    {
      "cell_type": "code",
      "metadata": {
        "colab": {
          "base_uri": "https://localhost:8080/",
          "height": 299
        },
        "id": "kvirF9jxU6wa",
        "outputId": "83b3ba74-6ff4-4f53-fdcc-a0259118b9c7"
      },
      "source": [
        "EVI_mean_df = pd.read_csv('/content/drive/MyDrive/WII/GEE/EVI_mean.csv')\n",
        "EVI_mean_df = EVI_mean_df.rename(columns = {'0_EVI': '2014', '1_EVI': '2015', '2_EVI': '2016', '3_EVI': '2017',\n",
        "                                            '4_EVI': '2018', '5_EVI': '2019', '6_EVI': '2020', '7_EVI': '2021' }, inplace = False)\n",
        "EVI_mean_df = EVI_mean_df.drop('system:index', axis = 1)\n",
        "EVI_mean_df = EVI_mean_df.transpose()\n",
        "EVI_mean_df['Year'] = EVI_mean_df.index\n",
        "EVI_mean_df['EVI'] = EVI_mean_df[0]\n",
        "EVI_mean_df"
      ],
      "execution_count": null,
      "outputs": [
        {
          "output_type": "execute_result",
          "data": {
            "text/html": [
              "<div>\n",
              "<style scoped>\n",
              "    .dataframe tbody tr th:only-of-type {\n",
              "        vertical-align: middle;\n",
              "    }\n",
              "\n",
              "    .dataframe tbody tr th {\n",
              "        vertical-align: top;\n",
              "    }\n",
              "\n",
              "    .dataframe thead th {\n",
              "        text-align: right;\n",
              "    }\n",
              "</style>\n",
              "<table border=\"1\" class=\"dataframe\">\n",
              "  <thead>\n",
              "    <tr style=\"text-align: right;\">\n",
              "      <th></th>\n",
              "      <th>0</th>\n",
              "      <th>Year</th>\n",
              "      <th>EVI</th>\n",
              "    </tr>\n",
              "  </thead>\n",
              "  <tbody>\n",
              "    <tr>\n",
              "      <th>2014</th>\n",
              "      <td>0.228254</td>\n",
              "      <td>2014</td>\n",
              "      <td>0.228254</td>\n",
              "    </tr>\n",
              "    <tr>\n",
              "      <th>2015</th>\n",
              "      <td>0.206920</td>\n",
              "      <td>2015</td>\n",
              "      <td>0.206920</td>\n",
              "    </tr>\n",
              "    <tr>\n",
              "      <th>2016</th>\n",
              "      <td>0.100285</td>\n",
              "      <td>2016</td>\n",
              "      <td>0.100285</td>\n",
              "    </tr>\n",
              "    <tr>\n",
              "      <th>2017</th>\n",
              "      <td>0.097806</td>\n",
              "      <td>2017</td>\n",
              "      <td>0.097806</td>\n",
              "    </tr>\n",
              "    <tr>\n",
              "      <th>2018</th>\n",
              "      <td>0.068488</td>\n",
              "      <td>2018</td>\n",
              "      <td>0.068488</td>\n",
              "    </tr>\n",
              "    <tr>\n",
              "      <th>2019</th>\n",
              "      <td>0.047195</td>\n",
              "      <td>2019</td>\n",
              "      <td>0.047195</td>\n",
              "    </tr>\n",
              "    <tr>\n",
              "      <th>2020</th>\n",
              "      <td>0.059513</td>\n",
              "      <td>2020</td>\n",
              "      <td>0.059513</td>\n",
              "    </tr>\n",
              "    <tr>\n",
              "      <th>2021</th>\n",
              "      <td>0.044568</td>\n",
              "      <td>2021</td>\n",
              "      <td>0.044568</td>\n",
              "    </tr>\n",
              "  </tbody>\n",
              "</table>\n",
              "</div>"
            ],
            "text/plain": [
              "             0  Year       EVI\n",
              "2014  0.228254  2014  0.228254\n",
              "2015  0.206920  2015  0.206920\n",
              "2016  0.100285  2016  0.100285\n",
              "2017  0.097806  2017  0.097806\n",
              "2018  0.068488  2018  0.068488\n",
              "2019  0.047195  2019  0.047195\n",
              "2020  0.059513  2020  0.059513\n",
              "2021  0.044568  2021  0.044568"
            ]
          },
          "metadata": {},
          "execution_count": 10
        }
      ]
    },
    {
      "cell_type": "code",
      "metadata": {
        "colab": {
          "base_uri": "https://localhost:8080/",
          "height": 297
        },
        "id": "kXB-zPJ8ZzaC",
        "outputId": "1c6847f0-cce9-47a7-c5e5-63a80e8e744b"
      },
      "source": [
        "sns.lineplot(data=EVI_mean_df, x=\"Year\", y=\"EVI\")"
      ],
      "execution_count": null,
      "outputs": [
        {
          "output_type": "execute_result",
          "data": {
            "text/plain": [
              "<matplotlib.axes._subplots.AxesSubplot at 0x7f32e92ae290>"
            ]
          },
          "metadata": {},
          "execution_count": 11
        },
        {
          "output_type": "display_data",
          "data": {
            "image/png": "[encoded data removed]",
            "text/plain": [
              "<Figure size 432x288 with 1 Axes>"
            ]
          },
          "metadata": {
            "needs_background": "light"
          }
        }
      ]
    },
    {
      "cell_type": "code",
      "metadata": {
        "id": "GSsZuFWe9a60"
      },
      "source": [
        "# #----------------------------------------------------NDBI Index-------------------------------------------\n",
        "\n",
        "# NDBI = (SWIR – NIR) / (SWIR + NIR)\n",
        "def ndbi(img):\n",
        "  ndbiImg = img.select(['B7','B5'],['swir','nir'])\n",
        "  ndbiImg = ndbiImg.expression(\n",
        "    '((SWIR - NIR) / (SWIR + NIR))', {\n",
        "      'NIR': ndbiImg.select('nir'),\n",
        "      'SWIR': ndbiImg.select('swir')\n",
        "    }).rename('NDBI')\n",
        "  return img.addBands(ndbiImg)\n",
        "\n",
        "\n",
        "\n",
        "def func_otl(image):\n",
        "  return ndbi(image)\n",
        "\n",
        "yearlyComposites = yearlyComposites.map(func_otl)\n",
        "# print(yearlyComposites, 'With NDBI as Band')\n",
        "\n",
        "# Create image collection of yearly composites, selecting the EVI band.\n",
        "ndbiCollection = yearlyComposites.select('NDBI')\n"
      ],
      "execution_count": null,
      "outputs": []
    },
    {
      "cell_type": "code",
      "metadata": {
        "colab": {
          "base_uri": "https://localhost:8080/"
        },
        "id": "QgGY00YkbEk7",
        "outputId": "98cbc95d-9f61-44dc-8dde-c4d3504b84a4"
      },
      "source": [
        "out_dir = '/content/drive/MyDrive/WII/GEE'\n",
        "out_dem_stats = os.path.join(out_dir, 'NDBI_mean.csv')  \n",
        "\n",
        "geemap.zonal_statistics(ndbiCollection, geometry, out_dem_stats, statistics_type='MEAN', scale=30)"
      ],
      "execution_count": null,
      "outputs": [
        {
          "output_type": "stream",
          "name": "stdout",
          "text": [
            "Computing statistics ...\n",
            "Generating URL ...\n",
            "Downloading data from https://earthengine.googleapis.com/v1alpha/projects/earthengine-legacy/tables/372b2b13d9eec4cf5bc52f692e7d7233-034468c3ef22ea7d045c053e67816e21:getFeatures\n",
            "Please wait ...\n",
            "Data downloaded to /content/drive/MyDrive/WII/GEE/NDBI_mean.csv\n"
          ]
        }
      ]
    },
    {
      "cell_type": "code",
      "metadata": {
        "colab": {
          "base_uri": "https://localhost:8080/",
          "height": 299
        },
        "id": "YmYSIb60bVvk",
        "outputId": "aeb7d1c0-7e4d-45be-ebdd-7e62eba33bac"
      },
      "source": [
        "NDBI_mean_df = pd.read_csv('/content/drive/MyDrive/WII/GEE/NDBI_mean.csv')\n",
        "NDBI_mean_df = NDBI_mean_df.rename(columns = {'0_NDBI': '2014', '1_NDBI': '2015', '2_NDBI': '2016', '3_NDBI': '2017',\n",
        "                                            '4_NDBI': '2018', '5_NDBI': '2019', '6_NDBI': '2020', '7_NDBI': '2021' }, inplace = False)\n",
        "NDBI_mean_df = NDBI_mean_df.drop('system:index', axis = 1)\n",
        "NDBI_mean_df = NDBI_mean_df.transpose()\n",
        "NDBI_mean_df['Year'] = NDBI_mean_df.index\n",
        "NDBI_mean_df['NDBI'] = NDBI_mean_df[0]\n",
        "NDBI_mean_df"
      ],
      "execution_count": null,
      "outputs": [
        {
          "output_type": "execute_result",
          "data": {
            "text/html": [
              "<div>\n",
              "<style scoped>\n",
              "    .dataframe tbody tr th:only-of-type {\n",
              "        vertical-align: middle;\n",
              "    }\n",
              "\n",
              "    .dataframe tbody tr th {\n",
              "        vertical-align: top;\n",
              "    }\n",
              "\n",
              "    .dataframe thead th {\n",
              "        text-align: right;\n",
              "    }\n",
              "</style>\n",
              "<table border=\"1\" class=\"dataframe\">\n",
              "  <thead>\n",
              "    <tr style=\"text-align: right;\">\n",
              "      <th></th>\n",
              "      <th>0</th>\n",
              "      <th>Year</th>\n",
              "      <th>NDBI</th>\n",
              "    </tr>\n",
              "  </thead>\n",
              "  <tbody>\n",
              "    <tr>\n",
              "      <th>2014</th>\n",
              "      <td>-0.244481</td>\n",
              "      <td>2014</td>\n",
              "      <td>-0.244481</td>\n",
              "    </tr>\n",
              "    <tr>\n",
              "      <th>2015</th>\n",
              "      <td>-0.199464</td>\n",
              "      <td>2015</td>\n",
              "      <td>-0.199464</td>\n",
              "    </tr>\n",
              "    <tr>\n",
              "      <th>2016</th>\n",
              "      <td>0.010272</td>\n",
              "      <td>2016</td>\n",
              "      <td>0.010272</td>\n",
              "    </tr>\n",
              "    <tr>\n",
              "      <th>2017</th>\n",
              "      <td>0.067748</td>\n",
              "      <td>2017</td>\n",
              "      <td>0.067748</td>\n",
              "    </tr>\n",
              "    <tr>\n",
              "      <th>2018</th>\n",
              "      <td>0.071742</td>\n",
              "      <td>2018</td>\n",
              "      <td>0.071742</td>\n",
              "    </tr>\n",
              "    <tr>\n",
              "      <th>2019</th>\n",
              "      <td>0.164532</td>\n",
              "      <td>2019</td>\n",
              "      <td>0.164532</td>\n",
              "    </tr>\n",
              "    <tr>\n",
              "      <th>2020</th>\n",
              "      <td>0.135992</td>\n",
              "      <td>2020</td>\n",
              "      <td>0.135992</td>\n",
              "    </tr>\n",
              "    <tr>\n",
              "      <th>2021</th>\n",
              "      <td>0.162798</td>\n",
              "      <td>2021</td>\n",
              "      <td>0.162798</td>\n",
              "    </tr>\n",
              "  </tbody>\n",
              "</table>\n",
              "</div>"
            ],
            "text/plain": [
              "             0  Year      NDBI\n",
              "2014 -0.244481  2014 -0.244481\n",
              "2015 -0.199464  2015 -0.199464\n",
              "2016  0.010272  2016  0.010272\n",
              "2017  0.067748  2017  0.067748\n",
              "2018  0.071742  2018  0.071742\n",
              "2019  0.164532  2019  0.164532\n",
              "2020  0.135992  2020  0.135992\n",
              "2021  0.162798  2021  0.162798"
            ]
          },
          "metadata": {},
          "execution_count": 14
        }
      ]
    },
    {
      "cell_type": "code",
      "metadata": {
        "colab": {
          "base_uri": "https://localhost:8080/",
          "height": 297
        },
        "id": "oRNk7Zd5b6Jt",
        "outputId": "b65b0b0d-321c-472a-f30a-c087a7dced52"
      },
      "source": [
        "sns.lineplot(data=NDBI_mean_df, x=\"Year\", y=\"NDBI\")"
      ],
      "execution_count": null,
      "outputs": [
        {
          "output_type": "execute_result",
          "data": {
            "text/plain": [
              "<matplotlib.axes._subplots.AxesSubplot at 0x7f32e8129090>"
            ]
          },
          "metadata": {},
          "execution_count": 15
        },
        {
          "output_type": "display_data",
          "data": {
            "image/png": "[encoded data removed]",
            "text/plain": [
              "<Figure size 432x288 with 1 Axes>"
            ]
          },
          "metadata": {
            "needs_background": "light"
          }
        }
      ]
    },
    {
      "cell_type": "code",
      "metadata": {
        "colab": {
          "base_uri": "https://localhost:8080/"
        },
        "id": "uAAdVj6_a5Mc",
        "outputId": "ac55383c-e48d-4661-ca94-da8a03e25fdf"
      },
      "source": [
        "#------------------------------------Vegetation Graph-----------------------------------\n",
        "\n",
        "# Load Landsat 7 Collection 1 Tier 1 8-Day NDVI Composite\n",
        "collectionl7 = ee.ImageCollection(\"LANDSAT/LE07/C01/T1_8DAY_NDVI\").select('NDVI')\n",
        "\n",
        "out_dir = '/content/drive/MyDrive/WII/GEE'\n",
        "out_dem_stats = os.path.join(out_dir, 'NDVI_mean_Landsat7.csv')  \n",
        "\n",
        "geemap.zonal_statistics(collectionl7, geometry, out_dem_stats, statistics_type='MEAN', scale=30)"
      ],
      "execution_count": null,
      "outputs": [
        {
          "output_type": "stream",
          "name": "stdout",
          "text": [
            "Computing statistics ...\n",
            "Generating URL ...\n",
            "Downloading data from https://earthengine.googleapis.com/v1alpha/projects/earthengine-legacy/tables/2361c9e2433a7852d5b8fcaedceab0d8-061cc8967618d1b6851ba4f3880236d0:getFeatures\n",
            "Please wait ...\n",
            "Data downloaded to /content/drive/MyDrive/WII/GEE/NDVI_mean_Landsat7.csv\n"
          ]
        }
      ]
    },
    {
      "cell_type": "code",
      "metadata": {
        "colab": {
          "base_uri": "https://localhost:8080/",
          "height": 422
        },
        "id": "J4_-aueidSGk",
        "outputId": "fe5453fc-0d40-41c3-ce83-5ca5f5a14390"
      },
      "source": [
        "NDVI_mean_df = pd.read_csv('/content/drive/MyDrive/WII/GEE/NDVI_mean_Landsat7.csv')\n",
        "NDVI_mean_df = NDVI_mean_df.drop('system:index', axis = 1)\n",
        "NDVI_mean_df = NDVI_mean_df.dropna(axis= 1)\n",
        "NDVI_mean_df = NDVI_mean_df.transpose()\n",
        "NDVI_mean_df['index'] = NDVI_mean_df.index\n",
        "NDVI_mean_df['NDVI'] = NDVI_mean_df[0]\n",
        "result = NDVI_mean_df.reset_index(drop = True)\n",
        "result[['date', 'indices']] = result['index'].str.split('_', 1, expand=True)\n",
        "result['Year'] = result['date'].apply(lambda x: x[0:4])\n",
        "result = result.drop(['index', 'date', 'indices'], axis = 1)\n",
        "result"
      ],
      "execution_count": null,
      "outputs": [
        {
          "output_type": "execute_result",
          "data": {
            "text/html": [
              "<div>\n",
              "<style scoped>\n",
              "    .dataframe tbody tr th:only-of-type {\n",
              "        vertical-align: middle;\n",
              "    }\n",
              "\n",
              "    .dataframe tbody tr th {\n",
              "        vertical-align: top;\n",
              "    }\n",
              "\n",
              "    .dataframe thead th {\n",
              "        text-align: right;\n",
              "    }\n",
              "</style>\n",
              "<table border=\"1\" class=\"dataframe\">\n",
              "  <thead>\n",
              "    <tr style=\"text-align: right;\">\n",
              "      <th></th>\n",
              "      <th>0</th>\n",
              "      <th>NDVI</th>\n",
              "      <th>year</th>\n",
              "    </tr>\n",
              "  </thead>\n",
              "  <tbody>\n",
              "    <tr>\n",
              "      <th>0</th>\n",
              "      <td>0.188913</td>\n",
              "      <td>0.188913</td>\n",
              "      <td>1999</td>\n",
              "    </tr>\n",
              "    <tr>\n",
              "      <th>1</th>\n",
              "      <td>0.464929</td>\n",
              "      <td>0.464929</td>\n",
              "      <td>1999</td>\n",
              "    </tr>\n",
              "    <tr>\n",
              "      <th>2</th>\n",
              "      <td>0.358827</td>\n",
              "      <td>0.358827</td>\n",
              "      <td>2000</td>\n",
              "    </tr>\n",
              "    <tr>\n",
              "      <th>3</th>\n",
              "      <td>0.190666</td>\n",
              "      <td>0.190666</td>\n",
              "      <td>2000</td>\n",
              "    </tr>\n",
              "    <tr>\n",
              "      <th>4</th>\n",
              "      <td>0.096719</td>\n",
              "      <td>0.096719</td>\n",
              "      <td>2000</td>\n",
              "    </tr>\n",
              "    <tr>\n",
              "      <th>...</th>\n",
              "      <td>...</td>\n",
              "      <td>...</td>\n",
              "      <td>...</td>\n",
              "    </tr>\n",
              "    <tr>\n",
              "      <th>279</th>\n",
              "      <td>0.025884</td>\n",
              "      <td>0.025884</td>\n",
              "      <td>2021</td>\n",
              "    </tr>\n",
              "    <tr>\n",
              "      <th>280</th>\n",
              "      <td>0.017769</td>\n",
              "      <td>0.017769</td>\n",
              "      <td>2021</td>\n",
              "    </tr>\n",
              "    <tr>\n",
              "      <th>281</th>\n",
              "      <td>0.011897</td>\n",
              "      <td>0.011897</td>\n",
              "      <td>2021</td>\n",
              "    </tr>\n",
              "    <tr>\n",
              "      <th>282</th>\n",
              "      <td>0.070888</td>\n",
              "      <td>0.070888</td>\n",
              "      <td>2021</td>\n",
              "    </tr>\n",
              "    <tr>\n",
              "      <th>283</th>\n",
              "      <td>0.138890</td>\n",
              "      <td>0.138890</td>\n",
              "      <td>2021</td>\n",
              "    </tr>\n",
              "  </tbody>\n",
              "</table>\n",
              "<p>284 rows × 3 columns</p>\n",
              "</div>"
            ],
            "text/plain": [
              "            0      NDVI  year\n",
              "0    0.188913  0.188913  1999\n",
              "1    0.464929  0.464929  1999\n",
              "2    0.358827  0.358827  2000\n",
              "3    0.190666  0.190666  2000\n",
              "4    0.096719  0.096719  2000\n",
              "..        ...       ...   ...\n",
              "279  0.025884  0.025884  2021\n",
              "280  0.017769  0.017769  2021\n",
              "281  0.011897  0.011897  2021\n",
              "282  0.070888  0.070888  2021\n",
              "283  0.138890  0.138890  2021\n",
              "\n",
              "[284 rows x 3 columns]"
            ]
          },
          "metadata": {},
          "execution_count": 51
        }
      ]
    },
    {
      "cell_type": "code",
      "metadata": {
        "colab": {
          "base_uri": "https://localhost:8080/",
          "height": 297
        },
        "id": "ash53P4_1Oui",
        "outputId": "50999e35-33c5-4243-b0a0-d27dbb08e809"
      },
      "source": [
        "sns.lineplot(data=result, x=\"Year\", y=\"NDVI\")"
      ],
      "execution_count": null,
      "outputs": [
        {
          "output_type": "execute_result",
          "data": {
            "text/plain": [
              "<matplotlib.axes._subplots.AxesSubplot at 0x7f32e25887d0>"
            ]
          },
          "metadata": {},
          "execution_count": 52
        },
        {
          "output_type": "display_data",
          "data": {
            "image/png": "[encoded data removed]",
            "text/plain": [
              "<Figure size 432x288 with 1 Axes>"
            ]
          },
          "metadata": {
            "needs_background": "light"
          }
        }
      ]
    }
  ]
}